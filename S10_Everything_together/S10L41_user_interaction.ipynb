{
 "cells": [
  {
   "cell_type": "code",
   "execution_count": 7,
   "metadata": {},
   "outputs": [
    {
     "name": "stdout",
     "output_type": "stream",
     "text": [
      "Please enter miles: 200\n",
      "321.868 km\n"
     ]
    }
   ],
   "source": [
    "def miles_to_km(miles):\n",
    "    km = miles * 1.60934\n",
    "    print(km, \"km\")\n",
    "    \n",
    "m = input('Please enter miles: ')\n",
    "m = float(m)\n",
    "miles_to_km(m)"
   ]
  },
  {
   "cell_type": "code",
   "execution_count": 3,
   "metadata": {},
   "outputs": [
    {
     "name": "stdout",
     "output_type": "stream",
     "text": [
      "160.934\n"
     ]
    }
   ],
   "source": [
    "miles_to_km(100)"
   ]
  }
 ],
 "metadata": {
  "kernelspec": {
   "display_name": "Python 3",
   "language": "python",
   "name": "python3"
  },
  "language_info": {
   "codemirror_mode": {
    "name": "ipython",
    "version": 3
   },
   "file_extension": ".py",
   "mimetype": "text/x-python",
   "name": "python",
   "nbconvert_exporter": "python",
   "pygments_lexer": "ipython3",
   "version": "3.7.0"
  }
 },
 "nbformat": 4,
 "nbformat_minor": 2
}
