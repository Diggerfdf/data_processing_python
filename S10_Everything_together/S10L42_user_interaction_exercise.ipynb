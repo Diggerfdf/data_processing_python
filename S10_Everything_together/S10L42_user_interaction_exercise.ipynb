{
 "cells": [
  {
   "cell_type": "code",
   "execution_count": 1,
   "metadata": {},
   "outputs": [],
   "source": [
    "import simplekml"
   ]
  },
  {
   "cell_type": "code",
   "execution_count": 4,
   "metadata": {},
   "outputs": [
    {
     "name": "stdout",
     "output_type": "stream",
     "text": [
      "Enter longitude: 205.5\n",
      "Enter Latitude: 359.25\n"
     ]
    }
   ],
   "source": [
    "longitude = float(input(\"Enter longitude: \"))\n",
    "latitude = float(input(\"Enter Latitude: \"))\n",
    "kml = simplekml.Kml()\n",
    "kml.newpoint(name = \"Sample\", coords = [(longitude, latitude)])\n",
    "kml.save(\"./Points.kml\")"
   ]
  },
  {
   "cell_type": "code",
   "execution_count": null,
   "metadata": {},
   "outputs": [],
   "source": []
  }
 ],
 "metadata": {
  "kernelspec": {
   "display_name": "Python 3",
   "language": "python",
   "name": "python3"
  },
  "language_info": {
   "codemirror_mode": {
    "name": "ipython",
    "version": 3
   },
   "file_extension": ".py",
   "mimetype": "text/x-python",
   "name": "python",
   "nbconvert_exporter": "python",
   "pygments_lexer": "ipython3",
   "version": "3.7.0"
  }
 },
 "nbformat": 4,
 "nbformat_minor": 2
}
