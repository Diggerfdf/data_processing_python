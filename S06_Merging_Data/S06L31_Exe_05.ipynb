{
 "cells": [
  {
   "cell_type": "code",
   "execution_count": 1,
   "metadata": {},
   "outputs": [],
   "source": [
    "import pandas"
   ]
  },
  {
   "cell_type": "code",
   "execution_count": 6,
   "metadata": {},
   "outputs": [],
   "source": [
    "def merge(left = \"/home/digger/Classes/Python/Data_Processing/S06_Merging_Data/Data/IncomeByStateByYearNoDupl.csv\",\n",
    "          right = \"/home/digger/Classes/Python/Data_Processing/S06_Merging_Data/Data/Geoids_and_states.csv\",\n",
    "          output = \"/home/digger/Classes/Python/Data_Processing/S06_Merging_Data/Data/IncomeByStateByYearNoDuplFinal.csv.csv\"):\n",
    "    \n",
    "    leftDf = pandas.read_csv(left)\n",
    "    rightDf = pandas.read_csv(right)\n",
    "    \n",
    "    mergedDf = pandas.merge(leftDf, rightDf, left_on = \"GEOID\", right_on = \"GEOID\")\n",
    "    mergedDf.set_index([\"GEOID\", \"State\"], inplace = True)\n",
    "    mergedDf.to_csv(output)"
   ]
  },
  {
   "cell_type": "code",
   "execution_count": 7,
   "metadata": {},
   "outputs": [],
   "source": [
    "merge()"
   ]
  }
 ],
 "metadata": {
  "kernelspec": {
   "display_name": "Python 3",
   "language": "python",
   "name": "python3"
  },
  "language_info": {
   "codemirror_mode": {
    "name": "ipython",
    "version": 3
   },
   "file_extension": ".py",
   "mimetype": "text/x-python",
   "name": "python",
   "nbconvert_exporter": "python",
   "pygments_lexer": "ipython3",
   "version": "3.7.0"
  }
 },
 "nbformat": 4,
 "nbformat_minor": 2
}
