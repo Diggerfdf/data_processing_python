{
 "cells": [
  {
   "cell_type": "markdown",
   "metadata": {},
   "source": [
    "# Direct Approach"
   ]
  },
  {
   "cell_type": "code",
   "execution_count": 1,
   "metadata": {},
   "outputs": [],
   "source": [
    "import glob\n",
    "import pandas"
   ]
  },
  {
   "cell_type": "code",
   "execution_count": 3,
   "metadata": {},
   "outputs": [
    {
     "name": "stdout",
     "output_type": "stream",
     "text": [
      "/home/digger/Classes/Python/Data_Processing/S06_Merging_Data/Data/Income-By-State/IncomeByState1987.xls\n",
      "/home/digger/Classes/Python/Data_Processing/S06_Merging_Data/Data/Income-By-State/IncomeByState2007.xls\n",
      "/home/digger/Classes/Python/Data_Processing/S06_Merging_Data/Data/Income-By-State/IncomeByState2009.xls\n",
      "/home/digger/Classes/Python/Data_Processing/S06_Merging_Data/Data/Income-By-State/IncomeByState1994.xls\n",
      "/home/digger/Classes/Python/Data_Processing/S06_Merging_Data/Data/Income-By-State/IncomeByState2013.xls\n",
      "/home/digger/Classes/Python/Data_Processing/S06_Merging_Data/Data/Income-By-State/IncomeByState2003.xls\n",
      "/home/digger/Classes/Python/Data_Processing/S06_Merging_Data/Data/Income-By-State/IncomeByState1992.xls\n",
      "/home/digger/Classes/Python/Data_Processing/S06_Merging_Data/Data/Income-By-State/IncomeByState2004.xls\n",
      "/home/digger/Classes/Python/Data_Processing/S06_Merging_Data/Data/Income-By-State/IncomeByState2002.xls\n",
      "/home/digger/Classes/Python/Data_Processing/S06_Merging_Data/Data/Income-By-State/IncomeByState2005.xls\n",
      "/home/digger/Classes/Python/Data_Processing/S06_Merging_Data/Data/Income-By-State/IncomeByState1999.xls\n",
      "/home/digger/Classes/Python/Data_Processing/S06_Merging_Data/Data/Income-By-State/IncomeByState1988.xls\n",
      "/home/digger/Classes/Python/Data_Processing/S06_Merging_Data/Data/Income-By-State/IncomeByState1995.xls\n",
      "/home/digger/Classes/Python/Data_Processing/S06_Merging_Data/Data/Income-By-State/IncomeByState1993.xls\n",
      "/home/digger/Classes/Python/Data_Processing/S06_Merging_Data/Data/Income-By-State/IncomeByState2006.xls\n",
      "/home/digger/Classes/Python/Data_Processing/S06_Merging_Data/Data/Income-By-State/IncomeByState1989.xls\n",
      "/home/digger/Classes/Python/Data_Processing/S06_Merging_Data/Data/Income-By-State/IncomeByState1984.xls\n",
      "/home/digger/Classes/Python/Data_Processing/S06_Merging_Data/Data/Income-By-State/IncomeByState2008.xls\n",
      "/home/digger/Classes/Python/Data_Processing/S06_Merging_Data/Data/Income-By-State/IncomeByState1985.xls\n",
      "/home/digger/Classes/Python/Data_Processing/S06_Merging_Data/Data/Income-By-State/IncomeByState2001.xls\n",
      "/home/digger/Classes/Python/Data_Processing/S06_Merging_Data/Data/Income-By-State/IncomeByState1996.xls\n",
      "/home/digger/Classes/Python/Data_Processing/S06_Merging_Data/Data/Income-By-State/IncomeByState1986.xls\n",
      "/home/digger/Classes/Python/Data_Processing/S06_Merging_Data/Data/Income-By-State/IncomeByState1991.xls\n",
      "/home/digger/Classes/Python/Data_Processing/S06_Merging_Data/Data/Income-By-State/IncomeByState1990.xls\n",
      "/home/digger/Classes/Python/Data_Processing/S06_Merging_Data/Data/Income-By-State/IncomeByState2011.xls\n",
      "/home/digger/Classes/Python/Data_Processing/S06_Merging_Data/Data/Income-By-State/IncomeByState2010.xls\n",
      "/home/digger/Classes/Python/Data_Processing/S06_Merging_Data/Data/Income-By-State/IncomeByState1997.xls\n",
      "/home/digger/Classes/Python/Data_Processing/S06_Merging_Data/Data/Income-By-State/IncomeByState2012.xls\n",
      "/home/digger/Classes/Python/Data_Processing/S06_Merging_Data/Data/Income-By-State/IncomeByState1998.xls\n",
      "/home/digger/Classes/Python/Data_Processing/S06_Merging_Data/Data/Income-By-State/IncomeByState2000.xls\n"
     ]
    }
   ],
   "source": [
    "fileList = glob.glob(\"/home/digger/Classes/Python/Data_Processing/S06_Merging_Data/Data/Income-By-State/*.xls\")\n",
    "dfList = []\n",
    "\n",
    "for filename in fileList:\n",
    "    print(filename)\n",
    "    df = pandas.read_excel(filename, skiprows = [0, 1, 2])\n",
    "    dfList.append(df)\n",
    "concatDf = pandas.concat(dfList, axis = 1)\n",
    "concatDf.to_csv(\"/home/digger/Classes/Python/Data_Processing/S06_Merging_Data/Data/IncomeByStateByYear.csv\", index = 0)"
   ]
  },
  {
   "cell_type": "markdown",
   "metadata": {},
   "source": [
    "# List Comprehension"
   ]
  },
  {
   "cell_type": "code",
   "execution_count": null,
   "metadata": {},
   "outputs": [],
   "source": [
    "filelist=glob.glob(\"C:\\\\Exercise\\\\*.xls\")\n",
    "\n",
    "dfList=[pandas.read_excel(filename,skiprows=[0,1,2]) for filename in filelist]\n",
    "\n",
    "concatDf=pandas.concat(dfList,axis=1)\n",
    "concatDf.to_csv(\"C:\\\\Exercise\\\\IncomeByStateByYear.csv\",index=0)"
   ]
  }
 ],
 "metadata": {
  "kernelspec": {
   "display_name": "Python 3",
   "language": "python",
   "name": "python3"
  },
  "language_info": {
   "codemirror_mode": {
    "name": "ipython",
    "version": 3
   },
   "file_extension": ".py",
   "mimetype": "text/x-python",
   "name": "python",
   "nbconvert_exporter": "python",
   "pygments_lexer": "ipython3",
   "version": "3.7.0"
  }
 },
 "nbformat": 4,
 "nbformat_minor": 2
}
