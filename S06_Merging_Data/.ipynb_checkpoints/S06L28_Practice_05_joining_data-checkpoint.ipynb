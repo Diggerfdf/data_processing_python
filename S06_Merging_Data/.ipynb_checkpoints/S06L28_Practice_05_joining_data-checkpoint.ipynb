{
 "cells": [
  {
   "cell_type": "code",
   "execution_count": 1,
   "metadata": {},
   "outputs": [],
   "source": [
    "import pandas"
   ]
  },
  {
   "cell_type": "code",
   "execution_count": 6,
   "metadata": {},
   "outputs": [],
   "source": [
    "def merge(left = \"/home/digger/Classes/Python/Data_Processing/S06_Merging_Data/concatenated.csv\",\n",
    "          right = \"/home/digger/Classes/Python/Data_Processing/S06_Merging_Data/Data/station-info.txt\",\n",
    "          output = \"/home/digger/Classes/Python/Data_Processing/S06_Merging_Data/Data/concatenated_merged.csv\"):\n",
    "    \n",
    "    leftDF = pandas.read_csv(left)\n",
    "    rightDF = pandas.read_fwf(right, converters = {\"USAF\" : str, \"WBAN\":str})\n",
    "    rightDF[\"USAF_WBAN\"] = rightDF[\"USAF\"] + \"-\" + rightDF[\"WBAN\"]\n",
    "    mergeDF = pandas.merge(leftDF, rightDF.loc[:,[\"USAF_WBAN\", \"STATION NAME\", \"LAT\", \"LON\"]], left_on = \"ID\", right_on = \"USAF_WBAN\")\n",
    "    mergeDF.to_csv(output)"
   ]
  },
  {
   "cell_type": "code",
   "execution_count": 7,
   "metadata": {},
   "outputs": [],
   "source": [
    "merge()"
   ]
  }
 ],
 "metadata": {
  "kernelspec": {
   "display_name": "Python 3",
   "language": "python",
   "name": "python3"
  },
  "language_info": {
   "codemirror_mode": {
    "name": "ipython",
    "version": 3
   },
   "file_extension": ".py",
   "mimetype": "text/x-python",
   "name": "python",
   "nbconvert_exporter": "python",
   "pygments_lexer": "ipython3",
   "version": "3.7.0"
  }
 },
 "nbformat": 4,
 "nbformat_minor": 2
}
