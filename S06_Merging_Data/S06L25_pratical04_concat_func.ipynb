{
 "cells": [
  {
   "cell_type": "code",
   "execution_count": 1,
   "metadata": {},
   "outputs": [],
   "source": [
    "import os\n",
    "import glob\n",
    "import pandas"
   ]
  },
  {
   "cell_type": "code",
   "execution_count": 6,
   "metadata": {},
   "outputs": [],
   "source": [
    "def concatenate(indir = \"/home/digger/Classes/Python/Data_Processing/S06_Merging_Data/Exercises/\",\n",
    "                outfile = \"/home/digger/Classes/Python/Data_Processing/S06_Merging_Data/concatenated.csv\"):\n",
    "    os.chdir(indir)\n",
    "    fileList = glob.glob(\"*.csv\")\n",
    "    dfList = []\n",
    "    colnames = [\"Year\", \"Month\", \"Day\", \"Hour\", \"Temp\", \"DewTemp\", \"Pressure\", \"WindDir\", \"Windspeed\", \"Sky\", \"Precip1\", \"Precip6\", \"ID\"]\n",
    "    for filename in fileList:\n",
    "        print(filename)\n",
    "        df = pandas.read_csv(filename, header = None)\n",
    "        dfList.append(df)\n",
    "    concatDf = pandas.concat(dfList, axis = 0)\n",
    "    concatDf.columns = colnames\n",
    "    concatDf.to_csv(outfile, index = None)"
   ]
  },
  {
   "cell_type": "code",
   "execution_count": 7,
   "metadata": {},
   "outputs": [
    {
     "name": "stdout",
     "output_type": "stream",
     "text": [
      "010020-99999-2010.csv\n",
      "010020-99999-2011.csv\n",
      "010020-99999-2013.csv\n",
      "010010-99999-2014.csv\n",
      "010010-99999-2011.csv\n",
      "010010-99999-2012.csv\n",
      "010014-99999-2012.csv\n",
      "010020-99999-2014.csv\n",
      "010010-99999-2013.csv\n",
      "010014-99999-2013.csv\n",
      "010014-99999-2014.csv\n",
      "010015-99999-2011.csv\n",
      "010014-99999-2011.csv\n",
      "010010-99999-2010.csv\n",
      "010015-99999-2010.csv\n",
      "010020-99999-2012.csv\n",
      "010014-99999-2010.csv\n"
     ]
    }
   ],
   "source": [
    "concatenate()"
   ]
  },
  {
   "cell_type": "code",
   "execution_count": null,
   "metadata": {},
   "outputs": [],
   "source": []
  }
 ],
 "metadata": {
  "kernelspec": {
   "display_name": "Python 3",
   "language": "python",
   "name": "python3"
  },
  "language_info": {
   "codemirror_mode": {
    "name": "ipython",
    "version": 3
   },
   "file_extension": ".py",
   "mimetype": "text/x-python",
   "name": "python",
   "nbconvert_exporter": "python",
   "pygments_lexer": "ipython3",
   "version": "3.6.6"
  }
 },
 "nbformat": 4,
 "nbformat_minor": 2
}
