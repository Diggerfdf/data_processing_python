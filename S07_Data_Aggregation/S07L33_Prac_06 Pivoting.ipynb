{
 "cells": [
  {
   "cell_type": "code",
   "execution_count": 2,
   "metadata": {},
   "outputs": [],
   "source": [
    "import pandas\n",
    "import numpy"
   ]
  },
  {
   "cell_type": "code",
   "execution_count": 5,
   "metadata": {},
   "outputs": [],
   "source": [
    "def pivot(infile = \"/home/digger/Classes/Python/Data_Processing/S07_Datta_Aggregation/Data/Concatenated-Merged.csv\",\n",
    "          output = \"/home/digger/Classes/Python/Data_Processing/S07_Datta_Aggregation/pivoted.csv\"):\n",
    "    \n",
    "    df = pandas.read_csv(infile)\n",
    "    df = df.replace(-9999, numpy.nan)\n",
    "    df[\"Temp\"] = df[\"Temp\"] / 10.0\n",
    "    \n",
    "    table = pandas.pivot_table(df, index = [\"ID\"], columns = \"Year\", values = \"Temp\")\n",
    "    table.to_csv(output)\n",
    "                            \n",
    "    "
   ]
  },
  {
   "cell_type": "code",
   "execution_count": 6,
   "metadata": {},
   "outputs": [],
   "source": [
    "pivot()"
   ]
  }
 ],
 "metadata": {
  "kernelspec": {
   "display_name": "Python 3",
   "language": "python",
   "name": "python3"
  },
  "language_info": {
   "codemirror_mode": {
    "name": "ipython",
    "version": 3
   },
   "file_extension": ".py",
   "mimetype": "text/x-python",
   "name": "python",
   "nbconvert_exporter": "python",
   "pygments_lexer": "ipython3",
   "version": "3.7.0"
  }
 },
 "nbformat": 4,
 "nbformat_minor": 2
}
